{
 "cells": [
  {
   "cell_type": "markdown",
   "metadata": {},
   "source": [
    "## image 에 그리기"
   ]
  },
  {
   "cell_type": "code",
   "execution_count": null,
   "metadata": {},
   "outputs": [
    {
     "name": "stdout",
     "output_type": "stream",
     "text": [
      "OpenCV version:\n",
      "4.10.0\n",
      "width: {} pixels 6274\n",
      "height: {} pixels 4183\n",
      "channels: {} 3\n",
      "Pixel at (0, 0) - Red: 251, Green : 252, Blue : 254\n"
     ]
    }
   ],
   "source": [
    "import cv2\n",
    "import numpy as np\n",
    "\n",
    "print(\"OpenCV version:\")\n",
    "print(cv2.__version__)\n",
    "\n",
    "img = cv2.imread(\"test.jpg\")\n",
    "if img is None:\n",
    "    print(\"Error: Image not found.\")\n",
    "    exit()\n",
    "\n",
    "print(\"width: {} pixels\", format(img.shape[1]))\n",
    "print(\"height: {} pixels\", format(img.shape[0]))\n",
    "print(\"channels: {}\", format(img.shape[2]))\n",
    "\n",
    "# 원본 이미지\n",
    "# cv2.imshow(\"test\", img)\n",
    "\n",
    "(b, g, r) = img[0, 0]\n",
    "print(\"Pixel at (0, 0) - Red: {}, Green : {}, Blue : {}\".format(r,g,b))\n",
    "\n",
    "dot = img[50:100, 50:100]\n",
    "\n",
    "# dot 로 찍는 부분\n",
    "# cv2.imshow(\"Dot\", dot)\n",
    "\n",
    "img[50:100, 50:100] = (0, 0, 255)\n",
    "\n",
    "# 직사각형 (이미지, 직사각형의 좌상단 좌표, 우하단 좌표, 색깔, 선의 두께) \n",
    "cv2.rectangle(img, (150, 50), (200, 100), (0, 255, 0), 5)\n",
    "\n",
    "# 원 (이미지, 원의 중심 좌표, 원의 반지름, 색상, 원 내부를 채우는 것을 의미)\n",
    "cv2.circle(img, (275, 75), 25, (0, 255, 255), -1)\n",
    "\n",
    "# 선 (이미지, 시작점 위치, 끝점 위치, 색상, 선의 굵기)\n",
    "cv2.line(img, (350, 100), (400, 100), (255, 0, 0), 5)\n",
    "\n",
    "# 문자 (이미지, 텍스트 내용, 위치, 폰트, 폰트 크기, 글자 색상, 굵기)\n",
    "cv2.putText(img, 'creApple', (450, 100), cv2.FONT_HERSHEY_SIMPLEX, 1, (123, 123, 255), 4)\n",
    "\n",
    "# 반영된 결과물\n",
    "cv2.imshow(\"test - draw\", img)\n",
    "\n",
    "cv2.waitKey(0)\n",
    "cv2.destroyAllWindows()\n"
   ]
  }
 ],
 "metadata": {
  "kernelspec": {
   "display_name": "Python 3",
   "language": "python",
   "name": "python3"
  },
  "language_info": {
   "codemirror_mode": {
    "name": "ipython",
    "version": 3
   },
   "file_extension": ".py",
   "mimetype": "text/x-python",
   "name": "python",
   "nbconvert_exporter": "python",
   "pygments_lexer": "ipython3",
   "version": "3.10.12"
  }
 },
 "nbformat": 4,
 "nbformat_minor": 2
}
