{
 "cells": [
  {
   "cell_type": "markdown",
   "metadata": {},
   "source": [
    "## anaconda 설치\n",
    "\n",
    "- anaconda 버전 업데이트 명령어\n",
    "```conda update conda```\n",
    "\n",
    "\n",
    "- anaconda 가상환경 생성 명령어\n",
    "```conda create --name computervision```\n",
    "\n",
    "- conda 실행 명령어\n",
    "```conda activate computervision```\n",
    "\n",
    "- zsh 사용 명령어\n",
    "```conda init zsh```\n",
    "\n",
    "- conda 종료 명령어\n",
    "```conda deactivate```\n",
    "\n",
    "- pip 설치된 목록 조회\n",
    "```pip list```\n",
    "\n",
    "<br />\n",
    "\n",
    "\n",
    "## opencv 설치\n",
    "- opencv python 설치 명령어\n",
    "```pip install opencv-python```\n",
    "\n",
    "<br />\n",
    "\n"
   ]
  },
  {
   "cell_type": "code",
   "execution_count": null,
   "metadata": {},
   "outputs": [
    {
     "name": "stdout",
     "output_type": "stream",
     "text": [
      "OpenCV version:\n",
      "4.10.0\n"
     ]
    }
   ],
   "source": [
    "import cv2\n",
    "import numpy as np\n",
    "\n",
    "print(\"OpenCV version:\")\n",
    "print(cv2.__version__)\n",
    "\n",
    "img = cv2.imread(\"test.jpg\")\n",
    "gray = cv2.cvtColor(img, cv2.COLOR_BGR2GRAY)\n",
    "\n",
    "cv2.imshow(\"test.jpg\", img)\n",
    "cv2.imshow(\"test.jpg - gray\", gray)\n",
    "cv2.waitKey(0)\n",
    "cv2.destroyAllWindows()"
   ]
  }
 ],
 "metadata": {
  "kernelspec": {
   "display_name": "Python 3",
   "language": "python",
   "name": "python3"
  },
  "language_info": {
   "codemirror_mode": {
    "name": "ipython",
    "version": 3
   },
   "file_extension": ".py",
   "mimetype": "text/x-python",
   "name": "python",
   "nbconvert_exporter": "python",
   "pygments_lexer": "ipython3",
   "version": "3.10.12"
  }
 },
 "nbformat": 4,
 "nbformat_minor": 2
}
