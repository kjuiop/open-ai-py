{
 "cells": [
  {
   "cell_type": "markdown",
   "metadata": {},
   "source": [
    "### 이미지 픽셀 좌표 체계\n",
    "\n",
    "- 이미지 안의 픽셀 정보를 구하는 실습을 진행한다."
   ]
  },
  {
   "cell_type": "code",
   "execution_count": null,
   "metadata": {},
   "outputs": [
    {
     "name": "stdout",
     "output_type": "stream",
     "text": [
      "OpenCV version:\n",
      "4.10.0\n",
      "width: {} pixels 6274\n",
      "height: {} pixels 4183\n",
      "channels: {} 3\n"
     ]
    }
   ],
   "source": [
    "import cv2\n",
    "import numpy as np\n",
    "\n",
    "print(\"OpenCV version:\")\n",
    "print(cv2.__version__)\n",
    "\n",
    "img = cv2.imread(\"test.jpg\")\n",
    "if img is None:\n",
    "    print(\"Error: Image not found.\")\n",
    "    exit()\n",
    "\n",
    "print(\"width: {} pixels\", format(img.shape[1]))\n",
    "print(\"height: {} pixels\", format(img.shape[0]))\n",
    "print(\"channels: {}\", format(img.shape[2]))\n",
    "\n",
    "gray = cv2.cvtColor(img, cv2.COLOR_BGR2GRAY)\n",
    "\n",
    "cv2.imshow(\"test.jpg\", img)\n",
    "cv2.imshow(\"test.jpg - gray\", gray)\n",
    "cv2.waitKey(0)\n",
    "cv2.imwrite(\"result.jpg\", gray)\n",
    "cv2.destroyAllWindows()\n",
    "\n",
    "\n"
   ]
  }
 ],
 "metadata": {
  "kernelspec": {
   "display_name": "Python 3",
   "language": "python",
   "name": "python3"
  },
  "language_info": {
   "codemirror_mode": {
    "name": "ipython",
    "version": 3
   },
   "file_extension": ".py",
   "mimetype": "text/x-python",
   "name": "python",
   "nbconvert_exporter": "python",
   "pygments_lexer": "ipython3",
   "version": "3.10.12"
  }
 },
 "nbformat": 4,
 "nbformat_minor": 2
}
