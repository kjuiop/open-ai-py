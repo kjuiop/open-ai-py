{
 "cells": [
  {
   "cell_type": "markdown",
   "metadata": {},
   "source": [
    "### mnist library\n",
    "\n",
    "- https://en.wikipedia.org/wiki/Raster_graphics\n",
    "  - raster\n",
    "- https://ko.wikipedia.org/wiki/%EB%B2%A1%ED%84%B0_%EA%B7%B8%EB%9E%98%ED%94%BD%EC%8A%A4"
   ]
  },
  {
   "cell_type": "code",
   "execution_count": null,
   "metadata": {},
   "outputs": [
    {
     "data": {
      "image/png": "[encoded data removed]",
      "text/plain": [
       "<Figure size 100x100 with 1 Axes>"
      ]
     },
     "metadata": {},
     "output_type": "display_data"
    },
    {
     "name": "stdout",
     "output_type": "stream",
     "text": [
      "6\n",
      "[[  0   0   0   0   0   0   0   0   0   0   0   0   0   0   0   0   0   0\n",
      "    0   0   0   0   0   0   0   0   0   0]\n",
      " [  0   0   0   0   0   0   0   0   0   0   0   0   0   0   0   0   0   0\n",
      "    0   0   0   0   0   0   0   0   0   0]\n",
      " [  0   0   0   0   0   0   0   0   0   0   0   0 127 221  52   0   0   0\n",
      "    0   0   0   0   0   0   0   0   0   0]\n",
      " [  0   0   0   0   0   0   0   0   0   0   0  64 229 219 104   0   0   0\n",
      "    0   0   0   0   0   0   0   0   0   0]\n",
      " [  0   0   0   0   0   0   0   0   0   0  13 235 140   4   3   0   0   0\n",
      "    0   0   0   0   0   0   0   0   0   0]\n",
      " [  0   0   0   0   0   0   0   0   0   0 118 227  25   0   0   0   0   0\n",
      "    0   0   0   0   0   0   0   0   0   0]\n",
      " [  0   0   0   0   0   0   0   0   0   0 236 133   0   0   0   0   0   0\n",
      "    0   0   0   0   0   0   0   0   0   0]\n",
      " [  0   0   0   0   0   0   0   0   0  13 243  93   0   0   0   0   0   0\n",
      "    0   0   0   0   0   0   0   0   0   0]\n",
      " [  0   0   0   0   0   0   0   0   0  85 243  21   0   0   0   0   0   0\n",
      "    0   0   0   0   0   0   0   0   0   0]\n",
      " [  0   0   0   0   0   0   0   0   0 189 236   0   0   0   0   0   0   0\n",
      "    0   0   0   0   0   0   0   0   0   0]\n",
      " [  0   0   0   0   0   0   0   0   1 208 169   0   0   0   0   0   0  64\n",
      "  151 151 135  74   1   0   0   0   0   0]\n",
      " [  0   0   0   0   0   0   0   0  26 254  89   0   0   0   0   6 142 254\n",
      "  224 211 181 241  70   0   0   0   0   0]\n",
      " [  0   0   0   0   0   0   0   0  26 254  68   0   0   0   2 161 254 104\n",
      "    7   0   0  80 223  15   0   0   0   0]\n",
      " [  0   0   0   0   0   0   0   0  57 254  15   0   0   0 150 231  68   1\n",
      "    0   0   0   9 231  26   0   0   0   0]\n",
      " [  0   0   0   0   0   0   0   0  79 254  15   0   0  24 228  66   0   0\n",
      "    0   0   0   0 196  87   0   0   0   0]\n",
      " [  0   0   0   0   0   0   0   0  73 254  43   0   0 116 251   7   0   0\n",
      "    0   0   0   0 196 100   0   0   0   0]\n",
      " [  0   0   0   0   0   0   0   0  13 230 147   0   0  60 255  70   0   0\n",
      "    0   0   0   4 209  84   0   0   0   0]\n",
      " [  0   0   0   0   0   0   0   0   0 203 232   4   0  42 253  74   0   0\n",
      "    0   0   0 114 233  17   0   0   0   0]\n",
      " [  0   0   0   0   0   0   0   0   0  87 252 147   0   0 154 229 132 123\n",
      "  123  63  93 248  65   0   0   0   0   0]\n",
      " [  0   0   0   0   0   0   0   0   0   0 169 249 137  23   8  80 100 101\n",
      "  107 145 192  51   0   0   0   0   0   0]\n",
      " [  0   0   0   0   0   0   0   0   0   0   5 139 251 224 144 115 115 195\n",
      "  254 187  48   0   0   0   0   0   0   0]\n",
      " [  0   0   0   0   0   0   0   0   0   0   0   0  55 141 203 244 180 129\n",
      "   67   2   0   0   0   0   0   0   0   0]\n",
      " [  0   0   0   0   0   0   0   0   0   0   0   0   0   0   0   0   0   0\n",
      "    0   0   0   0   0   0   0   0   0   0]\n",
      " [  0   0   0   0   0   0   0   0   0   0   0   0   0   0   0   0   0   0\n",
      "    0   0   0   0   0   0   0   0   0   0]\n",
      " [  0   0   0   0   0   0   0   0   0   0   0   0   0   0   0   0   0   0\n",
      "    0   0   0   0   0   0   0   0   0   0]\n",
      " [  0   0   0   0   0   0   0   0   0   0   0   0   0   0   0   0   0   0\n",
      "    0   0   0   0   0   0   0   0   0   0]\n",
      " [  0   0   0   0   0   0   0   0   0   0   0   0   0   0   0   0   0   0\n",
      "    0   0   0   0   0   0   0   0   0   0]\n",
      " [  0   0   0   0   0   0   0   0   0   0   0   0   0   0   0   0   0   0\n",
      "    0   0   0   0   0   0   0   0   0   0]]\n"
     ]
    }
   ],
   "source": [
    "selected_image = 100\n",
    "\n",
    "# keras Datasets Load from MNIST dataset\n",
    "from keras.datasets import mnist\n",
    "(x_train, y_train), (x_test, y_test) = mnist.load_data()\n",
    "\n",
    "# Preserve the original test set for visualization\n",
    "x_test_original = x_test.copy()\n",
    "\n",
    "# Draw Digit Image\n",
    "import numpy as np\n",
    "import matplotlib.pyplot as plt\n",
    "\n",
    "fig = plt.figure(figsize=(10, 10))\n",
    "ax = fig.add_subplot(1, 1, 1)\n",
    "\n",
    "# Major ticks every 20, minor ticks every 5\n",
    "major_ticks = np.arange(0, 29, 5)\n",
    "minior_ticks = np.arange(0, 29, 1)\n",
    "\n",
    "ax.set_xticks(major_ticks)\n",
    "ax.set_xticks(minior_ticks, minor=True)\n",
    "ax.set_yticks(major_ticks)\n",
    "ax.set_yticks(minior_ticks, minor=True)\n",
    "\n",
    "# And a corresponding grid\n",
    "ax.grid(which='both')\n",
    "\n",
    "# Or if you want differenct settings for the grids:\n",
    "ax.grid(which='minor', alpha=0.2)\n",
    "ax.grid(which='major', alpha=0.5)\n",
    "\n",
    "ax.imshow(x_test_original[selected_image], cmap=plt.cm.binary)\n",
    "\n",
    "plt.show()\n",
    "\n",
    "print(y_test[selected_image])\n",
    "print(x_test[selected_image])"
   ]
  }
 ],
 "metadata": {
  "kernelspec": {
   "display_name": "Python 3",
   "language": "python",
   "name": "python3"
  },
  "language_info": {
   "codemirror_mode": {
    "name": "ipython",
    "version": 3
   },
   "file_extension": ".py",
   "mimetype": "text/x-python",
   "name": "python",
   "nbconvert_exporter": "python",
   "pygments_lexer": "ipython3",
   "version": "3.10.12"
  }
 },
 "nbformat": 4,
 "nbformat_minor": 2
}
