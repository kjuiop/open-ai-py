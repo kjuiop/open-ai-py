{
 "cells": [
  {
   "cell_type": "markdown",
   "metadata": {},
   "source": [
    "### Gemini Application Developer\n",
    "\n",
    "- Gemini 가 개발자가 애플리케이션을 빌드하는데 어떻게 도움이 되는지 알아보는 과정\n",
    "\n",
    "- 코드를 다른 언어로 마이그레이션해야 하며, 회사의 독점 데이터베이스에 맞게 조정된 코드를 생성해야 한다.\n",
    "\n",
    "- Gemini Code 를 통해 IDE 에서 변환 요청을 할 수 있음\n",
    "\n",
    "- Cloud SQL 을 사용하면 Gemini 가 이해하고 변경할 수 있음\n",
    "\n",
    "- 자신이 만들고자 하는 기능을 설명하는 주석과 자연어를 입력하면 Gemini 가 해당 기능을 생성함"
   ]
  }
 ],
 "metadata": {
  "language_info": {
   "name": "python"
  }
 },
 "nbformat": 4,
 "nbformat_minor": 2
}
