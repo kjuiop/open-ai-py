{
 "cells": [
  {
   "cell_type": "markdown",
   "metadata": {},
   "source": [
    "### Gemini Application Developer\n",
    "\n",
    "- Gemini 가 개발자가 애플리케이션을 빌드하는데 어떻게 도움이 되는지 알아보는 과정\n",
    "\n",
    "- 코드를 다른 언어로 마이그레이션해야 하며, 회사의 독점 데이터베이스에 맞게 조정된 코드를 생성해야 한다.\n",
    "\n",
    "- Gemini Code 를 통해 IDE 에서 변환 요청을 할 수 있음\n",
    "\n",
    "- Cloud SQL 을 사용하면 Gemini 가 이해하고 변경할 수 있음\n",
    "\n",
    "- 자신이 만들고자 하는 기능을 설명하는 주석과 자연어를 입력하면 Gemini 가 해당 기능을 생성함"
   ]
  },
  {
   "cell_type": "markdown",
   "metadata": {},
   "source": [
    "### Gemeni App develop\n",
    "\n",
    "- Cloud Workstatins 를 사용하여 Code OSS IDE 로 사용하는 개발환경을 만듭니다.\n",
    "\n",
    "- Cloud Code 에서 Gemini Code Assist 를 사용하여 코드를 이해하고 두 개의 API 메서드가 있는 샘플 인벤토리 앱을 빌드합니다.\n",
    "\n",
    "- Gemini 를 사용하여 앱을 Cloud Run 에 배포하기 위한 단계를 생성합니다."
   ]
  },
  {
   "cell_type": "markdown",
   "metadata": {},
   "source": [
    "### Gemini for Data Scientists and Analysts\n",
    "\n",
    "- BigQuery, Gemini, Vertex AI 를 사용하여 데이터를 분석하여 새로운 고객을 분류하거나 예상 제품 판매와 같은 통찰력을 얻는 방법\n",
    "\n",
    "1. Looker 가 제공하는 제조 공장 대시보드를 여는 것\n",
    "\n",
    "- 모든 공장의 실시간 구조화 및 비구조화 데이터가 Google Cloud 에 로드되어 분석되고 여기에 표시됨\n",
    "\n",
    "- 오후 2시부터 시작하여 몇 시간 동안 처리량이 목표보다 낮았다는 것을 즉시 알아차림\n",
    "\n",
    "- 데이터 전문가는 Looker 에서 Gemini 를 사용하여 처리량이 낮은 이유를 알아보기로 결정\n",
    "\n",
    "- Gemini 는 문제가 있는 생산라인을 대답하며, 어떤 지표가 하락과 상관관계가 있는가에 대한 추가 질문을 제안\n",
    "\n",
    "- 데이터 전문가는 이를 통해 장비에 문제가 있음을 깨닫게 됨\n",
    "\n",
    "<br />\n",
    "\n",
    "2. 미래의 가동 중지 시간을 예측하고 이를 피하기 위해 예방적 유지 관리 모델을 구축해야 함 (BigQuery)\n",
    "\n",
    "- BigQuery Studio 는 원하는 모든 것을 Python 을 포함하여 구축할 수 있는 간단한 통합 환경\n",
    "\n",
    "- 처음부터 시작할 필요가 없도록 이미 존재하는 데이터를 파악\n",
    "\n",
    "- 데이터의 유용성과 품질을 검증하기 위해 데이터를 검증\n",
    "\n",
    "- Gemini 가 이미 데이터를 분석하고 그 방법을 설명한 탭도 있음\n",
    "\n",
    "- 여러 개의 ML 프로젝트를 구축하고 있기 때문에 Python Notebook 에서 작업하기로 결정\n",
    "\n",
    "- 보고서를 요약하고 검색과 그룹화에 도움이 되는 텍스트의 벡터나 숫자형 표현을 받을 수 있음"
   ]
  }
 ],
 "metadata": {
  "language_info": {
   "name": "python"
  }
 },
 "nbformat": 4,
 "nbformat_minor": 2
}
